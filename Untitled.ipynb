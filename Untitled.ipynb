{
 "cells": [
  {
   "cell_type": "code",
   "execution_count": 2,
   "id": "fb0f31d0",
   "metadata": {},
   "outputs": [],
   "source": [
    "import pandas as pd"
   ]
  },
  {
   "cell_type": "code",
   "execution_count": 10,
   "id": "f49d5f8a",
   "metadata": {},
   "outputs": [],
   "source": [
    "titanic_train = pd.read_csv(\"train.csv\")\n",
    "titanic_test = pd.read_csv(\"test.csv\")\n",
    "gender_submission = pd.read_csv(\"gender_submission.csv\")"
   ]
  },
  {
   "cell_type": "markdown",
   "id": "03bdec57",
   "metadata": {},
   "source": [
    "## Prepare the Data for Machine Learning Algorithms"
   ]
  },
  {
   "cell_type": "markdown",
   "id": "d9f458b6",
   "metadata": {},
   "source": [
    "### Data Cleaning"
   ]
  },
  {
   "cell_type": "code",
   "execution_count": 14,
   "id": "0ce4bf4b",
   "metadata": {},
   "outputs": [
    {
     "data": {
      "text/plain": [
       "PassengerId      0\n",
       "Survived         0\n",
       "Pclass           0\n",
       "Name             0\n",
       "Sex              0\n",
       "Age            177\n",
       "SibSp            0\n",
       "Parch            0\n",
       "Ticket           0\n",
       "Fare             0\n",
       "Cabin          687\n",
       "Embarked         2\n",
       "dtype: int64"
      ]
     },
     "execution_count": 14,
     "metadata": {},
     "output_type": "execute_result"
    }
   ],
   "source": [
    "# check for na values\n",
    "titanic_train.isna().sum()"
   ]
  },
  {
   "cell_type": "code",
   "execution_count": 15,
   "id": "5704f0cc",
   "metadata": {},
   "outputs": [],
   "source": [
    "from sklearn.impute import SimpleImputer"
   ]
  },
  {
   "cell_type": "code",
   "execution_count": 17,
   "id": "e99780c8",
   "metadata": {},
   "outputs": [],
   "source": [
    "imputer = SimpleImputer(strategy=\"median\")"
   ]
  },
  {
   "cell_type": "code",
   "execution_count": 19,
   "id": "9c0917c4",
   "metadata": {},
   "outputs": [],
   "source": [
    "titanic_train_num = titanic_train.select_dtypes(include=\"number\")"
   ]
  },
  {
   "cell_type": "code",
   "execution_count": 20,
   "id": "0bb9e78a",
   "metadata": {},
   "outputs": [
    {
     "data": {
      "text/plain": [
       "SimpleImputer(strategy='median')"
      ]
     },
     "execution_count": 20,
     "metadata": {},
     "output_type": "execute_result"
    }
   ],
   "source": [
    "imputer.fit(titanic_train_num)"
   ]
  },
  {
   "cell_type": "code",
   "execution_count": 25,
   "id": "bfe968f3",
   "metadata": {},
   "outputs": [
    {
     "data": {
      "text/plain": [
       "PassengerId    True\n",
       "Survived       True\n",
       "Pclass         True\n",
       "Age            True\n",
       "SibSp          True\n",
       "Parch          True\n",
       "Fare           True\n",
       "dtype: bool"
      ]
     },
     "execution_count": 25,
     "metadata": {},
     "output_type": "execute_result"
    }
   ],
   "source": [
    "# computed medians were stored in statistics_ attribute\n",
    "imputer.statistics_ == titanic_train_num.median()"
   ]
  },
  {
   "cell_type": "code",
   "execution_count": 26,
   "id": "1c50ab2e",
   "metadata": {},
   "outputs": [],
   "source": [
    "X = imputer.transform(titanic_train_num)"
   ]
  },
  {
   "cell_type": "code",
   "execution_count": 27,
   "id": "7732dbc4",
   "metadata": {},
   "outputs": [
    {
     "data": {
      "text/plain": [
       "array([[  1.    ,   0.    ,   3.    , ...,   1.    ,   0.    ,   7.25  ],\n",
       "       [  2.    ,   1.    ,   1.    , ...,   1.    ,   0.    ,  71.2833],\n",
       "       [  3.    ,   1.    ,   3.    , ...,   0.    ,   0.    ,   7.925 ],\n",
       "       ...,\n",
       "       [889.    ,   0.    ,   3.    , ...,   1.    ,   2.    ,  23.45  ],\n",
       "       [890.    ,   1.    ,   1.    , ...,   0.    ,   0.    ,  30.    ],\n",
       "       [891.    ,   0.    ,   3.    , ...,   0.    ,   0.    ,   7.75  ]])"
      ]
     },
     "execution_count": 27,
     "metadata": {},
     "output_type": "execute_result"
    }
   ],
   "source": [
    "X"
   ]
  },
  {
   "cell_type": "markdown",
   "id": "bf8f47ec",
   "metadata": {},
   "source": [
    "*If you want to put it back into a pandas DataFrame:*"
   ]
  },
  {
   "cell_type": "code",
   "execution_count": 31,
   "id": "4e54da76",
   "metadata": {},
   "outputs": [],
   "source": [
    "#titatic_train_df = pd.DataFrame(X, columns=titanic_train_num.columns)"
   ]
  },
  {
   "cell_type": "code",
   "execution_count": null,
   "id": "d76eea41",
   "metadata": {},
   "outputs": [],
   "source": []
  }
 ],
 "metadata": {
  "kernelspec": {
   "display_name": "Python 3",
   "language": "python",
   "name": "python3"
  },
  "language_info": {
   "codemirror_mode": {
    "name": "ipython",
    "version": 3
   },
   "file_extension": ".py",
   "mimetype": "text/x-python",
   "name": "python",
   "nbconvert_exporter": "python",
   "pygments_lexer": "ipython3",
   "version": "3.8.8"
  }
 },
 "nbformat": 4,
 "nbformat_minor": 5
}
