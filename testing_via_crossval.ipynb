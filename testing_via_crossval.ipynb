{
 "cells": [
  {
   "cell_type": "code",
   "execution_count": 67,
   "id": "31fbf3ac",
   "metadata": {},
   "outputs": [],
   "source": [
    "%run main.ipynb"
   ]
  },
  {
   "cell_type": "code",
   "execution_count": 68,
   "id": "61f1094e",
   "metadata": {},
   "outputs": [],
   "source": [
    "#import joblib # to save the results of models"
   ]
  },
  {
   "cell_type": "markdown",
   "id": "86f239cf",
   "metadata": {},
   "source": [
    "### Better Evaluation Using Cross-Validation"
   ]
  },
  {
   "cell_type": "markdown",
   "id": "0c441411",
   "metadata": {},
   "source": [
    "Scikit-Learn’s **K-fold cross-validation** feature: randomly splits the training set into 10 distinct subsets called folds, <br>\n",
    "then it trains and evaluates the Decision Tree model 10 times,<br>\n",
    "picking a different fold for evaluation every time <br>\n",
    "and training on the other 9 folds.<br> \n",
    "<br>\n",
    "The result is an array containing the 10 evaluation scores:"
   ]
  },
  {
   "cell_type": "code",
   "execution_count": 69,
   "id": "74b84e8f",
   "metadata": {},
   "outputs": [],
   "source": [
    "from sklearn.model_selection import cross_val_score"
   ]
  },
  {
   "cell_type": "markdown",
   "id": "141dce99",
   "metadata": {},
   "source": [
    "**Evaluation for LinearRegregression model:**"
   ]
  },
  {
   "cell_type": "code",
   "execution_count": 70,
   "id": "43005cb8",
   "metadata": {},
   "outputs": [],
   "source": [
    "lin_reg_scores = cross_val_score(tree_reg, titanic_clean, \n",
    "                         titanic_train_labels, scoring=\"neg_mean_squared_error\", cv=10)"
   ]
  },
  {
   "cell_type": "markdown",
   "id": "66c7c750",
   "metadata": {},
   "source": [
    "PS: Scikit-Learn’s cross-validation features expect a utility function (greater is better) rather than\n",
    "a cost function (lower is better), so the scoring function is actually the opposite of the MSE."
   ]
  },
  {
   "cell_type": "code",
   "execution_count": 71,
   "id": "5bb22f01",
   "metadata": {},
   "outputs": [],
   "source": [
    "lin_rms_scores = np.sqrt(-lin_reg_scores)"
   ]
  },
  {
   "cell_type": "code",
   "execution_count": 72,
   "id": "776cb3a4",
   "metadata": {},
   "outputs": [
    {
     "data": {
      "text/plain": [
       "array([0.49903535, 0.41670786, 0.55245202, 0.52254944, 0.4719372 ,\n",
       "       0.39498258, 0.4628902 , 0.44658504, 0.45861462, 0.50635783])"
      ]
     },
     "execution_count": 72,
     "metadata": {},
     "output_type": "execute_result"
    }
   ],
   "source": [
    "lin_rms_scores"
   ]
  },
  {
   "cell_type": "code",
   "execution_count": 73,
   "id": "314fcf8e",
   "metadata": {},
   "outputs": [
    {
     "name": "stdout",
     "output_type": "stream",
     "text": [
      "mean: -0.22601099939559677\n",
      "std: 0.04322186098344336\n"
     ]
    }
   ],
   "source": [
    "# estimate of the performance of your model\n",
    "print(\"mean:\", lin_reg_scores.mean())\n",
    "# how precise this estimate is\n",
    "print(\"std:\", lin_reg_scores.std())\n",
    "\n",
    "# You would not have this information if you just used one validation set."
   ]
  },
  {
   "cell_type": "code",
   "execution_count": 74,
   "id": "877e8d03",
   "metadata": {},
   "outputs": [],
   "source": [
    "#joblib.dump(lin_rms_scores, \"lin_reg.pkl\")"
   ]
  },
  {
   "cell_type": "code",
   "execution_count": 75,
   "id": "a9d798dc",
   "metadata": {},
   "outputs": [],
   "source": [
    "#my_model_loaded = joblib.load(\"lin_reg.pkl\")"
   ]
  },
  {
   "cell_type": "code",
   "execution_count": 76,
   "id": "d5425c4a",
   "metadata": {},
   "outputs": [],
   "source": [
    "#my_model_loaded"
   ]
  },
  {
   "cell_type": "markdown",
   "id": "27926bb6",
   "metadata": {},
   "source": [
    "**Evaluation for DecisionTreeRegressor:**"
   ]
  },
  {
   "cell_type": "code",
   "execution_count": 77,
   "id": "a865a2ea",
   "metadata": {},
   "outputs": [],
   "source": [
    "tree_reg_scores = cross_val_score(tree_reg, titanic_clean, \n",
    "                         titanic_train_labels, scoring=\"neg_mean_squared_error\", cv=10)"
   ]
  },
  {
   "cell_type": "code",
   "execution_count": 78,
   "id": "99c34e41",
   "metadata": {},
   "outputs": [],
   "source": [
    "tree_rms_scores = np.sqrt(-tree_reg_scores)"
   ]
  },
  {
   "cell_type": "code",
   "execution_count": 79,
   "id": "b0710a7c",
   "metadata": {},
   "outputs": [
    {
     "data": {
      "text/plain": [
       "array([0.52082483, 0.41670786, 0.55245202, 0.52254944, 0.49517333,\n",
       "       0.40895867, 0.4628902 , 0.44658504, 0.45554185, 0.48494823])"
      ]
     },
     "execution_count": 79,
     "metadata": {},
     "output_type": "execute_result"
    }
   ],
   "source": [
    "tree_rms_scores"
   ]
  },
  {
   "cell_type": "code",
   "execution_count": 80,
   "id": "3d821ba8",
   "metadata": {},
   "outputs": [
    {
     "name": "stdout",
     "output_type": "stream",
     "text": [
      "0.48 accuracy with a standard deviation of 0.04\n"
     ]
    }
   ],
   "source": [
    "print(\"%0.2f accuracy with a standard deviation of %0.2f\"\n",
    "      % (tree_rms_scores.mean(), tree_rms_scores.std()))"
   ]
  },
  {
   "cell_type": "markdown",
   "id": "4ad354a4",
   "metadata": {},
   "source": [
    "**Evaluation for RandomForestRegressor:**"
   ]
  },
  {
   "cell_type": "code",
   "execution_count": 81,
   "id": "86278fe8",
   "metadata": {},
   "outputs": [],
   "source": [
    "forest_reg_scores = cross_val_score(tree_reg, titanic_clean, \n",
    "                         titanic_train_labels, scoring=\"neg_mean_squared_error\", cv=10)"
   ]
  },
  {
   "cell_type": "code",
   "execution_count": 82,
   "id": "de346835",
   "metadata": {},
   "outputs": [],
   "source": [
    "forest_rms_scores = np.sqrt(-forest_reg_scores)"
   ]
  },
  {
   "cell_type": "code",
   "execution_count": 83,
   "id": "c9141692",
   "metadata": {},
   "outputs": [
    {
     "data": {
      "text/plain": [
       "array([0.51004646, 0.40300061, 0.55245202, 0.52254944, 0.48369482,\n",
       "       0.42247266, 0.45059004, 0.48285201, 0.47070513, 0.50635783])"
      ]
     },
     "execution_count": 83,
     "metadata": {},
     "output_type": "execute_result"
    }
   ],
   "source": [
    "forest_rms_scores"
   ]
  },
  {
   "cell_type": "code",
   "execution_count": 84,
   "id": "3699aaa3",
   "metadata": {},
   "outputs": [
    {
     "name": "stdout",
     "output_type": "stream",
     "text": [
      "0.48 accuracy with a standard deviation of 0.04\n"
     ]
    }
   ],
   "source": [
    "print(\"%0.2f accuracy with a standard deviation of %0.2f\"\n",
    "      % (forest_rms_scores.mean(), forest_rms_scores.std()))"
   ]
  }
 ],
 "metadata": {
  "kernelspec": {
   "display_name": "Python 3",
   "language": "python",
   "name": "python3"
  },
  "language_info": {
   "codemirror_mode": {
    "name": "ipython",
    "version": 3
   },
   "file_extension": ".py",
   "mimetype": "text/x-python",
   "name": "python",
   "nbconvert_exporter": "python",
   "pygments_lexer": "ipython3",
   "version": "3.8.8"
  }
 },
 "nbformat": 4,
 "nbformat_minor": 5
}
