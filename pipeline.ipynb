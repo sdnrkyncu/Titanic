{
 "cells": [
  {
   "cell_type": "code",
   "execution_count": 43,
   "id": "c55bb2a2",
   "metadata": {},
   "outputs": [],
   "source": [
    "# Handling data cleaning with pipelines"
   ]
  },
  {
   "cell_type": "code",
   "execution_count": 44,
   "id": "98d0feef",
   "metadata": {},
   "outputs": [],
   "source": [
    "from sklearn.pipeline import Pipeline\n",
    "from sklearn.preprocessing import StandardScaler, OneHotEncoder\n",
    "from sklearn.compose import ColumnTransformer"
   ]
  },
  {
   "cell_type": "code",
   "execution_count": 45,
   "id": "8f9f4d55",
   "metadata": {},
   "outputs": [],
   "source": [
    "def num_pipeline(num_attribs):\n",
    "    num_pipeline = Pipeline([\n",
    "        (\"imputer\", SimpleImputer(strategy='median')),\n",
    "        (\"std_scaler\", StandardScaler()),\n",
    "    ])"
   ]
  },
  {
   "cell_type": "code",
   "execution_count": 46,
   "id": "9929e19b",
   "metadata": {},
   "outputs": [],
   "source": [
    "def cat_pipeline(cat_attribs):\n",
    "    cat_pipeline = Pipeline([\n",
    "        (\"enc\", OneHotEncoder(drop='if_binary'))\n",
    "    ])"
   ]
  },
  {
   "cell_type": "code",
   "execution_count": 47,
   "id": "550b1563",
   "metadata": {},
   "outputs": [],
   "source": [
    "def titanic_pipeline(num_attribs, cat_attribs):\n",
    "    num_pipeline(num_attribs)\n",
    "    cat_pipeline(cat_attribs)\n",
    "    full_pipeline = ColumnsTransformer([\n",
    "        (\"num\", num_pipeline, num_attribs),\n",
    "        (\"cat\", cat_pipeline, cat_attribs)\n",
    "    ])"
   ]
  },
  {
   "cell_type": "code",
   "execution_count": 48,
   "id": "04c8c786",
   "metadata": {},
   "outputs": [],
   "source": [
    "def hello():\n",
    "    return \"hello\""
   ]
  }
 ],
 "metadata": {
  "kernelspec": {
   "display_name": "Python 3",
   "language": "python",
   "name": "python3"
  },
  "language_info": {
   "codemirror_mode": {
    "name": "ipython",
    "version": 3
   },
   "file_extension": ".py",
   "mimetype": "text/x-python",
   "name": "python",
   "nbconvert_exporter": "python",
   "pygments_lexer": "ipython3",
   "version": "3.8.8"
  }
 },
 "nbformat": 4,
 "nbformat_minor": 5
}
