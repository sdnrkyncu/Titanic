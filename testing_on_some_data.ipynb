{
 "cells": [
  {
   "cell_type": "markdown",
   "id": "29d89b1f",
   "metadata": {},
   "source": [
    "Do not know if this part is necessary for now, since the prediction I want whether passengers survivied or no (0 or 1). Will be clear to me later."
   ]
  },
  {
   "cell_type": "code",
   "execution_count": 9,
   "id": "5efde8c9",
   "metadata": {},
   "outputs": [],
   "source": [
    "%run main.ipynb"
   ]
  },
  {
   "cell_type": "markdown",
   "id": "71b27e76",
   "metadata": {},
   "source": [
    "Experimenting the model on some data:"
   ]
  },
  {
   "cell_type": "code",
   "execution_count": 10,
   "id": "d7e48b0c",
   "metadata": {},
   "outputs": [],
   "source": [
    "some_data = titanic.iloc[:100]\n",
    "some_labels = titanic_train_labels.iloc[:100]\n",
    "some_data_prepared = full_pipeline(titanic_num, titanic_cat)\n",
    "some_data_prepared = some_data_prepared.fit_transform(some_data)"
   ]
  },
  {
   "cell_type": "code",
   "execution_count": 11,
   "id": "896badb5",
   "metadata": {},
   "outputs": [
    {
     "data": {
      "text/plain": [
       "(100, 7)"
      ]
     },
     "execution_count": 11,
     "metadata": {},
     "output_type": "execute_result"
    }
   ],
   "source": [
    "some_data_prepared.shape"
   ]
  },
  {
   "cell_type": "code",
   "execution_count": 12,
   "id": "aff815b7",
   "metadata": {},
   "outputs": [
    {
     "name": "stdout",
     "output_type": "stream",
     "text": [
      "Predictions: [0. 1. 1. 1. 0. 0. 0. 0. 1. 1. 1. 1. 0. 0. 1. 1. 0. 0. 1. 1. 0. 0. 1. 0.\n",
      " 1. 1. 0. 1. 1. 0. 0. 1. 1. 0. 0. 0. 0. 0. 1. 1. 1. 1. 0. 1. 1. 0. 0. 1.\n",
      " 0. 1. 0. 0. 1. 1. 0. 0. 1. 0. 1. 0. 0. 1. 0. 0. 0. 0. 1. 0. 1. 0. 0. 1.\n",
      " 0. 0. 0. 0. 0. 0. 0. 1. 0. 0. 1. 0. 1. 1. 0. 0. 1. 0. 0. 0. 0. 0. 0. 0.\n",
      " 0. 0. 1. 0.]\n"
     ]
    }
   ],
   "source": [
    "print(\"Predictions:\", lin_reg.predict(some_data_prepared).round())"
   ]
  },
  {
   "cell_type": "code",
   "execution_count": 13,
   "id": "0f5a5b90",
   "metadata": {},
   "outputs": [
    {
     "name": "stdout",
     "output_type": "stream",
     "text": [
      "Labels: [0, 1, 1, 1, 0, 0, 0, 0, 1, 1, 1, 1, 0, 0, 0, 1, 0, 1, 0, 1, 0, 1, 1, 1, 0, 1, 0, 0, 1, 0, 0, 1, 1, 0, 0, 0, 1, 0, 0, 1, 0, 0, 0, 1, 1, 0, 0, 1, 0, 0, 0, 0, 1, 1, 0, 1, 1, 0, 1, 0, 0, 1, 0, 0, 0, 1, 1, 0, 1, 0, 0, 0, 0, 0, 1, 0, 0, 0, 1, 1, 0, 1, 1, 0, 1, 1, 0, 0, 1, 0, 0, 0, 0, 0, 0, 0, 0, 1, 1, 0]\n"
     ]
    }
   ],
   "source": [
    "print(\"Labels:\", list(some_labels))"
   ]
  },
  {
   "cell_type": "markdown",
   "id": "69bded58",
   "metadata": {},
   "source": [
    "Cost function:"
   ]
  },
  {
   "cell_type": "code",
   "execution_count": 14,
   "id": "f5ba959c",
   "metadata": {},
   "outputs": [
    {
     "data": {
      "text/plain": [
       "0.3978804112640383"
      ]
     },
     "execution_count": 14,
     "metadata": {},
     "output_type": "execute_result"
    }
   ],
   "source": [
    "from sklearn.metrics import mean_squared_error\n",
    "titanic_predictions = lin_reg.predict(titanic_clean)\n",
    "lin_mse = mean_squared_error(titanic_train_labels, titanic_predictions)\n",
    "lin_rmse = np.sqrt(lin_mse)\n",
    "lin_rmse"
   ]
  },
  {
   "cell_type": "code",
   "execution_count": 15,
   "id": "7e01e23c",
   "metadata": {},
   "outputs": [
    {
     "data": {
      "text/plain": [
       "81"
      ]
     },
     "execution_count": 15,
     "metadata": {},
     "output_type": "execute_result"
    }
   ],
   "source": [
    "# 81% percent accuracy?\n",
    "sum(lin_reg.predict(some_data_prepared).round() == list(some_labels))"
   ]
  },
  {
   "cell_type": "markdown",
   "id": "9d4f6099",
   "metadata": {},
   "source": [
    "Cost function on cleaned training data for DecisionTreeRegressor:"
   ]
  },
  {
   "cell_type": "code",
   "execution_count": 16,
   "id": "7ef361ae",
   "metadata": {},
   "outputs": [
    {
     "data": {
      "text/plain": [
       "0.11507075751269402"
      ]
     },
     "execution_count": 16,
     "metadata": {},
     "output_type": "execute_result"
    }
   ],
   "source": [
    "titanic_predictions = tree_reg.predict(titanic_clean)\n",
    "tree_mse = mean_squared_error(titanic_train_labels, titanic_predictions)\n",
    "tree_rmse = np.sqrt(tree_mse)\n",
    "tree_rmse"
   ]
  }
 ],
 "metadata": {
  "kernelspec": {
   "display_name": "Python 3",
   "language": "python",
   "name": "python3"
  },
  "language_info": {
   "codemirror_mode": {
    "name": "ipython",
    "version": 3
   },
   "file_extension": ".py",
   "mimetype": "text/x-python",
   "name": "python",
   "nbconvert_exporter": "python",
   "pygments_lexer": "ipython3",
   "version": "3.8.8"
  }
 },
 "nbformat": 4,
 "nbformat_minor": 5
}
