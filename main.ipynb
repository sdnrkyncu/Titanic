{
 "cells": [
  {
   "cell_type": "code",
   "execution_count": 44,
   "id": "56c6187a",
   "metadata": {},
   "outputs": [],
   "source": [
    "import pandas as pd"
   ]
  },
  {
   "cell_type": "code",
   "execution_count": 45,
   "id": "6ef67d0d",
   "metadata": {},
   "outputs": [],
   "source": [
    "titanic = pd.read_csv(\"train.csv\")\n",
    "titanic_test = pd.read_csv(\"test.csv\")\n",
    "gender_submission = pd.read_csv(\"gender_submission.csv\")"
   ]
  },
  {
   "cell_type": "markdown",
   "id": "b4565780",
   "metadata": {},
   "source": [
    "## Prepare the Data for Machine Learning Algorithms"
   ]
  },
  {
   "cell_type": "markdown",
   "id": "7e7f5cb4",
   "metadata": {},
   "source": [
    "### Data Cleaning"
   ]
  },
  {
   "cell_type": "markdown",
   "id": "2ef2f225",
   "metadata": {},
   "source": [
    "In this step, two approaches were worked upon. I seperated code steps into modules for readibilty. Here, I will import pipeline.ipynb for clean the data up. If you want to see what code produced this output, check pipeline.ipynb file. And for seeing another approach without pipelines, see file data_cleaning_w/o_pipeline.ipynb"
   ]
  },
  {
   "cell_type": "code",
   "execution_count": 46,
   "id": "e79451f6",
   "metadata": {},
   "outputs": [],
   "source": [
    "# import pipeline.ipynb\n",
    "%run pipeline.ipynb"
   ]
  },
  {
   "cell_type": "code",
   "execution_count": 47,
   "id": "c158e023",
   "metadata": {},
   "outputs": [],
   "source": [
    "titanic_num = ['Age', 'Fare']\n",
    "titanic_cat = ['Sex', 'Embarked']"
   ]
  },
  {
   "cell_type": "code",
   "execution_count": 48,
   "id": "916713e4",
   "metadata": {},
   "outputs": [],
   "source": [
    "titanic_prepared = full_pipeline(titanic_num, titanic_cat)\n",
    "titanic_clean = titanic_prepared.fit_transform(titanic)"
   ]
  },
  {
   "cell_type": "code",
   "execution_count": 49,
   "id": "f2ae9c39",
   "metadata": {},
   "outputs": [
    {
     "data": {
      "text/plain": [
       "(891, 7)"
      ]
     },
     "execution_count": 49,
     "metadata": {},
     "output_type": "execute_result"
    }
   ],
   "source": [
    "titanic_clean.shape"
   ]
  },
  {
   "cell_type": "code",
   "execution_count": 50,
   "id": "677f3469",
   "metadata": {},
   "outputs": [
    {
     "data": {
      "text/plain": [
       "True"
      ]
     },
     "execution_count": 50,
     "metadata": {},
     "output_type": "execute_result"
    }
   ],
   "source": [
    "# the shape of original dataframe has been changed\n",
    "titanic_clean.shape != titanic.shape"
   ]
  },
  {
   "cell_type": "code",
   "execution_count": 51,
   "id": "d68d14c2",
   "metadata": {},
   "outputs": [],
   "source": [
    "#titanic_df = pd.DataFrame(titanic_clean, columns=['Age', 'Fare', 'Sex', 'Embarked'])"
   ]
  }
 ],
 "metadata": {
  "kernelspec": {
   "display_name": "Python 3",
   "language": "python",
   "name": "python3"
  },
  "language_info": {
   "codemirror_mode": {
    "name": "ipython",
    "version": 3
   },
   "file_extension": ".py",
   "mimetype": "text/x-python",
   "name": "python",
   "nbconvert_exporter": "python",
   "pygments_lexer": "ipython3",
   "version": "3.8.8"
  }
 },
 "nbformat": 4,
 "nbformat_minor": 5
}
