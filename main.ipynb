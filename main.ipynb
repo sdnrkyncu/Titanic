{
 "cells": [
  {
   "cell_type": "code",
   "execution_count": 1,
   "id": "56c6187a",
   "metadata": {},
   "outputs": [],
   "source": [
    "import pandas as pd\n",
    "import numpy as np"
   ]
  },
  {
   "cell_type": "code",
   "execution_count": 2,
   "id": "6ef67d0d",
   "metadata": {},
   "outputs": [],
   "source": [
    "titanic = pd.read_csv(\"train.csv\")\n",
    "titanic_test = pd.read_csv(\"test.csv\")\n",
    "gender_submission = pd.read_csv(\"gender_submission.csv\")"
   ]
  },
  {
   "cell_type": "code",
   "execution_count": 3,
   "id": "85f29d30",
   "metadata": {},
   "outputs": [
    {
     "data": {
      "text/plain": [
       "(891, 12)"
      ]
     },
     "execution_count": 3,
     "metadata": {},
     "output_type": "execute_result"
    }
   ],
   "source": [
    "titanic.shape"
   ]
  },
  {
   "cell_type": "code",
   "execution_count": 4,
   "id": "ed9ae3b0",
   "metadata": {},
   "outputs": [],
   "source": [
    "titanic_train_labels = titanic['Survived'].copy()\n",
    "titanic = titanic.drop(columns = 'Survived')"
   ]
  },
  {
   "cell_type": "code",
   "execution_count": 5,
   "id": "6ce26313",
   "metadata": {},
   "outputs": [
    {
     "data": {
      "text/plain": [
       "(891, 11)"
      ]
     },
     "execution_count": 5,
     "metadata": {},
     "output_type": "execute_result"
    }
   ],
   "source": [
    "titanic.shape"
   ]
  },
  {
   "cell_type": "markdown",
   "id": "b4565780",
   "metadata": {},
   "source": [
    "## Prepare the Data for Machine Learning Algorithms"
   ]
  },
  {
   "cell_type": "markdown",
   "id": "7e7f5cb4",
   "metadata": {},
   "source": [
    "### Data Cleaning"
   ]
  },
  {
   "cell_type": "markdown",
   "id": "2ef2f225",
   "metadata": {},
   "source": [
    "Here, pipelines are used for data cleaning. And for seeing another approach without pipelines, see data_cleaning_no_pipeline.ipynb"
   ]
  },
  {
   "cell_type": "code",
   "execution_count": 6,
   "id": "90e6711d",
   "metadata": {},
   "outputs": [],
   "source": [
    "from sklearn.pipeline import Pipeline\n",
    "from sklearn.impute import SimpleImputer\n",
    "from sklearn.preprocessing import StandardScaler, OneHotEncoder\n",
    "from sklearn.compose import ColumnTransformer"
   ]
  },
  {
   "cell_type": "code",
   "execution_count": 7,
   "id": "8a6c9858",
   "metadata": {},
   "outputs": [],
   "source": [
    "titanic_num = ['Age', 'Fare']\n",
    "titanic_cat = ['Sex', 'Embarked']"
   ]
  },
  {
   "cell_type": "code",
   "execution_count": 8,
   "id": "f086b0c8",
   "metadata": {},
   "outputs": [],
   "source": [
    "num_pipeline = Pipeline([\n",
    "        (\"imputer\", SimpleImputer(strategy='median')),\n",
    "        (\"std_scaler\", StandardScaler()),\n",
    "    ])"
   ]
  },
  {
   "cell_type": "code",
   "execution_count": 9,
   "id": "d965bbad",
   "metadata": {},
   "outputs": [],
   "source": [
    "cat_pipeline = Pipeline([\n",
    "        (\"enc\", OneHotEncoder(drop='if_binary'))\n",
    "    ])"
   ]
  },
  {
   "cell_type": "code",
   "execution_count": 10,
   "id": "56df5bbe",
   "metadata": {},
   "outputs": [],
   "source": [
    "# Combine pipelines in a ColumnTransformer\n",
    "full_pipeline = ColumnTransformer([\n",
    "    (\"num\", num_pipeline, titanic_num),\n",
    "    (\"cat\", cat_pipeline, titanic_cat)\n",
    "])"
   ]
  },
  {
   "cell_type": "code",
   "execution_count": 11,
   "id": "526ab069",
   "metadata": {},
   "outputs": [],
   "source": [
    "# Fit and transform the training data\n",
    "titanic_clean = full_pipeline.fit_transform(titanic)"
   ]
  },
  {
   "cell_type": "code",
   "execution_count": 12,
   "id": "c567d0d9",
   "metadata": {},
   "outputs": [
    {
     "data": {
      "text/plain": [
       "array([-0.56573646, -0.50244517,  1.        ,  0.        ,  0.        ,\n",
       "        1.        ,  0.        ])"
      ]
     },
     "execution_count": 12,
     "metadata": {},
     "output_type": "execute_result"
    }
   ],
   "source": [
    "titanic_clean[0] "
   ]
  },
  {
   "cell_type": "code",
   "execution_count": 13,
   "id": "f2ae9c39",
   "metadata": {},
   "outputs": [
    {
     "data": {
      "text/plain": [
       "(891, 7)"
      ]
     },
     "execution_count": 13,
     "metadata": {},
     "output_type": "execute_result"
    }
   ],
   "source": [
    "titanic_clean.shape"
   ]
  },
  {
   "cell_type": "markdown",
   "id": "c2a92e14",
   "metadata": {},
   "source": [
    "## Select and Train a Model"
   ]
  },
  {
   "cell_type": "markdown",
   "id": "a9ecd299",
   "metadata": {},
   "source": [
    "### Training and Evaluating on the Training Set"
   ]
  },
  {
   "cell_type": "markdown",
   "id": "d56babca",
   "metadata": {},
   "source": [
    "*Train a Linear Regression model:*"
   ]
  },
  {
   "cell_type": "code",
   "execution_count": 14,
   "id": "dc2d89ec",
   "metadata": {},
   "outputs": [],
   "source": [
    "from sklearn.linear_model import LinearRegression"
   ]
  },
  {
   "cell_type": "code",
   "execution_count": 15,
   "id": "56048fb9",
   "metadata": {},
   "outputs": [
    {
     "data": {
      "text/plain": [
       "LinearRegression()"
      ]
     },
     "execution_count": 15,
     "metadata": {},
     "output_type": "execute_result"
    }
   ],
   "source": [
    "lin_reg = LinearRegression()\n",
    "lin_reg.fit(titanic_clean, titanic_train_labels)"
   ]
  },
  {
   "cell_type": "markdown",
   "id": "9993d09d",
   "metadata": {},
   "source": [
    "*Train a Decision Tree model:*"
   ]
  },
  {
   "cell_type": "code",
   "execution_count": 16,
   "id": "fd9fedb0",
   "metadata": {},
   "outputs": [],
   "source": [
    "from sklearn.tree import DecisionTreeRegressor"
   ]
  },
  {
   "cell_type": "code",
   "execution_count": 17,
   "id": "03247bdb",
   "metadata": {},
   "outputs": [
    {
     "data": {
      "text/plain": [
       "DecisionTreeRegressor(random_state=42)"
      ]
     },
     "execution_count": 17,
     "metadata": {},
     "output_type": "execute_result"
    }
   ],
   "source": [
    "tree_reg = DecisionTreeRegressor(random_state=42)\n",
    "tree_reg.fit(titanic_clean, titanic_train_labels)"
   ]
  },
  {
   "cell_type": "markdown",
   "id": "4c9731a1",
   "metadata": {},
   "source": [
    "*Train a Random Forest model:*"
   ]
  },
  {
   "cell_type": "code",
   "execution_count": 18,
   "id": "2ad1d30d",
   "metadata": {},
   "outputs": [],
   "source": [
    "from sklearn.ensemble import RandomForestRegressor"
   ]
  },
  {
   "cell_type": "code",
   "execution_count": 19,
   "id": "2fa3f26f",
   "metadata": {},
   "outputs": [
    {
     "data": {
      "text/plain": [
       "RandomForestRegressor(random_state=42)"
      ]
     },
     "execution_count": 19,
     "metadata": {},
     "output_type": "execute_result"
    }
   ],
   "source": [
    "forest_reg = RandomForestRegressor(random_state=42)\n",
    "forest_reg.fit(titanic_clean, titanic_train_labels)"
   ]
  },
  {
   "cell_type": "markdown",
   "id": "6ec712c9",
   "metadata": {},
   "source": [
    "See the models tested on some data: testing_on_some_data.ipynb"
   ]
  },
  {
   "cell_type": "markdown",
   "id": "95b61978",
   "metadata": {},
   "source": [
    "See the models tested via Cross-Validation method: testing_via_crossval.ipynb"
   ]
  },
  {
   "cell_type": "markdown",
   "id": "456de567",
   "metadata": {},
   "source": [
    "## Launch the System"
   ]
  },
  {
   "cell_type": "code",
   "execution_count": 20,
   "id": "c97ec47b",
   "metadata": {},
   "outputs": [],
   "source": [
    "final_model = LinearRegression()  # found as the best model via testing_via_crossval.ipynb "
   ]
  },
  {
   "cell_type": "code",
   "execution_count": 21,
   "id": "81b1d6c4",
   "metadata": {},
   "outputs": [
    {
     "data": {
      "text/plain": [
       "LinearRegression()"
      ]
     },
     "execution_count": 21,
     "metadata": {},
     "output_type": "execute_result"
    }
   ],
   "source": [
    "final_model"
   ]
  },
  {
   "cell_type": "markdown",
   "id": "ab2e217e",
   "metadata": {},
   "source": [
    "Preparing the \"titanic_test.csv\" data we never touched before for putting it into our final model:"
   ]
  },
  {
   "cell_type": "code",
   "execution_count": 22,
   "id": "4f2af421",
   "metadata": {},
   "outputs": [],
   "source": [
    "# Transform the test data using the same transformations\n",
    "titanic_test_clean = full_pipeline.transform(titanic_test)"
   ]
  },
  {
   "cell_type": "code",
   "execution_count": 23,
   "id": "2d7337d2",
   "metadata": {},
   "outputs": [
    {
     "data": {
      "text/plain": [
       "(418, 7)"
      ]
     },
     "execution_count": 23,
     "metadata": {},
     "output_type": "execute_result"
    }
   ],
   "source": [
    "titanic_test_clean.shape\n"
   ]
  },
  {
   "cell_type": "code",
   "execution_count": 24,
   "id": "1d18c8bb",
   "metadata": {},
   "outputs": [
    {
     "data": {
      "text/plain": [
       "array([ 0.39488658, -0.49078316,  1.        ,  0.        ,  1.        ,\n",
       "        0.        ,  0.        ])"
      ]
     },
     "execution_count": 24,
     "metadata": {},
     "output_type": "execute_result"
    }
   ],
   "source": [
    "titanic_test_clean[0]"
   ]
  },
  {
   "cell_type": "markdown",
   "id": "5c83371e",
   "metadata": {},
   "source": [
    "Testing our final model on \"titanic_test.csv\" data:"
   ]
  },
  {
   "cell_type": "code",
   "execution_count": 25,
   "id": "7ed71d4a",
   "metadata": {},
   "outputs": [],
   "source": [
    "# Model fitting and prediction\n",
    "final_model.fit(titanic_clean, titanic_train_labels)\n",
    "predictions = final_model.predict(titanic_test_clean)"
   ]
  },
  {
   "cell_type": "code",
   "execution_count": 26,
   "id": "9a5a2653",
   "metadata": {},
   "outputs": [
    {
     "name": "stdout",
     "output_type": "stream",
     "text": [
      "0.10936965981495178\n"
     ]
    }
   ],
   "source": [
    "from sklearn.metrics import mean_squared_error\n",
    "final_rmse = mean_squared_error(gender_submission['Survived'], predictions.round(), squared=False)\n",
    "print(final_rmse)"
   ]
  },
  {
   "cell_type": "code",
   "execution_count": 27,
   "id": "21ba6011",
   "metadata": {},
   "outputs": [],
   "source": [
    "# That's a very bad score\n",
    "# Let's try out another model from testing_via_crossval.ipynb"
   ]
  },
  {
   "cell_type": "code",
   "execution_count": 28,
   "id": "d4c94d6f",
   "metadata": {},
   "outputs": [],
   "source": [
    "final_model = RandomForestRegressor(max_features=4, n_estimators=24, random_state=42)"
   ]
  },
  {
   "cell_type": "code",
   "execution_count": 29,
   "id": "acb3e2fe",
   "metadata": {},
   "outputs": [],
   "source": [
    "# Model fitting and prediction\n",
    "final_model.fit(titanic_clean, titanic_train_labels)\n",
    "predictions = final_model.predict(titanic_test_clean)"
   ]
  },
  {
   "cell_type": "code",
   "execution_count": 30,
   "id": "f694c922",
   "metadata": {},
   "outputs": [
    {
     "name": "stdout",
     "output_type": "stream",
     "text": [
      "0.412136457171825\n"
     ]
    }
   ],
   "source": [
    "from sklearn.metrics import mean_squared_error\n",
    "final_rmse = mean_squared_error(gender_submission['Survived'], predictions.round(), squared=False)\n",
    "print(final_rmse)"
   ]
  },
  {
   "cell_type": "code",
   "execution_count": 31,
   "id": "7169a3c1",
   "metadata": {},
   "outputs": [],
   "source": [
    "# Looks like the best model testing_via_crossval.ipynb found is not the best one :)"
   ]
  }
 ],
 "metadata": {
  "kernelspec": {
   "display_name": "Python 3",
   "language": "python",
   "name": "python3"
  },
  "language_info": {
   "codemirror_mode": {
    "name": "ipython",
    "version": 3
   },
   "file_extension": ".py",
   "mimetype": "text/x-python",
   "name": "python",
   "nbconvert_exporter": "python",
   "pygments_lexer": "ipython3",
   "version": "3.8.8"
  }
 },
 "nbformat": 4,
 "nbformat_minor": 5
}
