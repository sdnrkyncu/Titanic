{
 "cells": [
  {
   "cell_type": "code",
   "execution_count": 111,
   "id": "56c6187a",
   "metadata": {},
   "outputs": [],
   "source": [
    "import pandas as pd\n",
    "import numpy as np"
   ]
  },
  {
   "cell_type": "code",
   "execution_count": 93,
   "id": "6ef67d0d",
   "metadata": {},
   "outputs": [],
   "source": [
    "titanic = pd.read_csv(\"train.csv\")\n",
    "titanic_test = pd.read_csv(\"test.csv\")\n",
    "gender_submission = pd.read_csv(\"gender_submission.csv\")"
   ]
  },
  {
   "cell_type": "code",
   "execution_count": 94,
   "id": "ed9ae3b0",
   "metadata": {},
   "outputs": [],
   "source": [
    "titanic_train_labels = titanic['Survived'].copy()\n",
    "titanic = titanic.drop(columns = 'Survived')"
   ]
  },
  {
   "cell_type": "markdown",
   "id": "b4565780",
   "metadata": {},
   "source": [
    "## Prepare the Data for Machine Learning Algorithms"
   ]
  },
  {
   "cell_type": "markdown",
   "id": "7e7f5cb4",
   "metadata": {},
   "source": [
    "### Data Cleaning"
   ]
  },
  {
   "cell_type": "markdown",
   "id": "2ef2f225",
   "metadata": {},
   "source": [
    "In this step, two approaches were worked upon. I seperated code steps into modules for readibilty. Here, I will import pipeline.ipynb for clean the data up. If you want to see what code produced this output, check pipeline.ipynb file. And for seeing another approach without pipelines, see file data_cleaning_w/o_pipeline.ipynb"
   ]
  },
  {
   "cell_type": "code",
   "execution_count": 95,
   "id": "e79451f6",
   "metadata": {},
   "outputs": [],
   "source": [
    "# import pipeline.ipynb\n",
    "%run pipeline.ipynb"
   ]
  },
  {
   "cell_type": "code",
   "execution_count": 96,
   "id": "c158e023",
   "metadata": {},
   "outputs": [],
   "source": [
    "titanic_num = ['Age', 'Fare']\n",
    "titanic_cat = ['Sex', 'Embarked']"
   ]
  },
  {
   "cell_type": "code",
   "execution_count": 97,
   "id": "916713e4",
   "metadata": {},
   "outputs": [],
   "source": [
    "titanic_prepared = full_pipeline(titanic_num, titanic_cat)\n",
    "titanic_clean = titanic_prepared.fit_transform(titanic)"
   ]
  },
  {
   "cell_type": "code",
   "execution_count": 99,
   "id": "f2ae9c39",
   "metadata": {},
   "outputs": [
    {
     "data": {
      "text/plain": [
       "(891, 7)"
      ]
     },
     "execution_count": 99,
     "metadata": {},
     "output_type": "execute_result"
    }
   ],
   "source": [
    "titanic_clean.shape"
   ]
  },
  {
   "cell_type": "code",
   "execution_count": 100,
   "id": "677f3469",
   "metadata": {},
   "outputs": [
    {
     "data": {
      "text/plain": [
       "True"
      ]
     },
     "execution_count": 100,
     "metadata": {},
     "output_type": "execute_result"
    }
   ],
   "source": [
    "# the shape of original dataframe has been changed\n",
    "titanic_clean.shape != titanic.shape"
   ]
  },
  {
   "cell_type": "markdown",
   "id": "c2a92e14",
   "metadata": {},
   "source": [
    "## Select and Train a Model"
   ]
  },
  {
   "cell_type": "markdown",
   "id": "a9ecd299",
   "metadata": {},
   "source": [
    "### Training and Evaluating on the Training Set"
   ]
  },
  {
   "cell_type": "markdown",
   "id": "d56babca",
   "metadata": {},
   "source": [
    "Train a Linear Regression model:"
   ]
  },
  {
   "cell_type": "code",
   "execution_count": 101,
   "id": "dc2d89ec",
   "metadata": {},
   "outputs": [],
   "source": [
    "from sklearn.linear_model import LinearRegression"
   ]
  },
  {
   "cell_type": "code",
   "execution_count": 116,
   "id": "56048fb9",
   "metadata": {},
   "outputs": [
    {
     "data": {
      "text/plain": [
       "LinearRegression()"
      ]
     },
     "execution_count": 116,
     "metadata": {},
     "output_type": "execute_result"
    }
   ],
   "source": [
    "lin_reg = LinearRegression()\n",
    "lin_reg.fit(titanic_clean, titanic_train_labels)"
   ]
  },
  {
   "cell_type": "code",
   "execution_count": 118,
   "id": "fd9fedb0",
   "metadata": {},
   "outputs": [],
   "source": [
    "from sklearn.tree import DecisionTreeRegressor"
   ]
  },
  {
   "cell_type": "code",
   "execution_count": 119,
   "id": "03247bdb",
   "metadata": {},
   "outputs": [
    {
     "data": {
      "text/plain": [
       "DecisionTreeRegressor()"
      ]
     },
     "execution_count": 119,
     "metadata": {},
     "output_type": "execute_result"
    }
   ],
   "source": [
    "tree_reg = DecisionTreeRegressor()\n",
    "tree_reg.fit(titanic_clean, titanic_train_labels)"
   ]
  }
 ],
 "metadata": {
  "kernelspec": {
   "display_name": "Python 3",
   "language": "python",
   "name": "python3"
  },
  "language_info": {
   "codemirror_mode": {
    "name": "ipython",
    "version": 3
   },
   "file_extension": ".py",
   "mimetype": "text/x-python",
   "name": "python",
   "nbconvert_exporter": "python",
   "pygments_lexer": "ipython3",
   "version": "3.8.8"
  }
 },
 "nbformat": 4,
 "nbformat_minor": 5
}
