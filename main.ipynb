{
 "cells": [
  {
   "cell_type": "code",
   "execution_count": 20,
   "id": "56c6187a",
   "metadata": {},
   "outputs": [],
   "source": [
    "import pandas as pd\n",
    "import numpy as np"
   ]
  },
  {
   "cell_type": "code",
   "execution_count": 21,
   "id": "6ef67d0d",
   "metadata": {},
   "outputs": [],
   "source": [
    "titanic = pd.read_csv(\"train.csv\")\n",
    "titanic_test = pd.read_csv(\"test.csv\")\n",
    "gender_submission = pd.read_csv(\"gender_submission.csv\")"
   ]
  },
  {
   "cell_type": "code",
   "execution_count": 22,
   "id": "ed9ae3b0",
   "metadata": {},
   "outputs": [],
   "source": [
    "titanic_train_labels = titanic['Survived'].copy()\n",
    "titanic = titanic.drop(columns = 'Survived')"
   ]
  },
  {
   "cell_type": "markdown",
   "id": "b4565780",
   "metadata": {},
   "source": [
    "## Prepare the Data for Machine Learning Algorithms"
   ]
  },
  {
   "cell_type": "markdown",
   "id": "7e7f5cb4",
   "metadata": {},
   "source": [
    "### Data Cleaning"
   ]
  },
  {
   "cell_type": "markdown",
   "id": "2ef2f225",
   "metadata": {},
   "source": [
    "In this step, two approaches were worked upon. I seperated code steps into modules for readibilty. Here, I will import pipeline.ipynb for clean the data up. If you want to see what code produced this output, check pipeline.ipynb file. And for seeing another approach without pipelines, see file data_cleaning_w/o_pipeline.ipynb"
   ]
  },
  {
   "cell_type": "code",
   "execution_count": 23,
   "id": "e79451f6",
   "metadata": {},
   "outputs": [],
   "source": [
    "# import pipeline.ipynb\n",
    "%run pipeline.ipynb"
   ]
  },
  {
   "cell_type": "code",
   "execution_count": 24,
   "id": "c158e023",
   "metadata": {},
   "outputs": [],
   "source": [
    "titanic_num = ['Age', 'Fare']\n",
    "titanic_cat = ['Sex', 'Embarked']"
   ]
  },
  {
   "cell_type": "code",
   "execution_count": 25,
   "id": "916713e4",
   "metadata": {},
   "outputs": [],
   "source": [
    "titanic_prepared = full_pipeline(titanic_num, titanic_cat)\n",
    "titanic_clean = titanic_prepared.fit_transform(titanic)"
   ]
  },
  {
   "cell_type": "code",
   "execution_count": 26,
   "id": "f2ae9c39",
   "metadata": {},
   "outputs": [
    {
     "data": {
      "text/plain": [
       "(891, 7)"
      ]
     },
     "execution_count": 26,
     "metadata": {},
     "output_type": "execute_result"
    }
   ],
   "source": [
    "titanic_clean.shape"
   ]
  },
  {
   "cell_type": "code",
   "execution_count": 27,
   "id": "677f3469",
   "metadata": {},
   "outputs": [
    {
     "data": {
      "text/plain": [
       "True"
      ]
     },
     "execution_count": 27,
     "metadata": {},
     "output_type": "execute_result"
    }
   ],
   "source": [
    "# the shape of original dataframe has been changed\n",
    "titanic_clean.shape != titanic.shape"
   ]
  },
  {
   "cell_type": "markdown",
   "id": "c2a92e14",
   "metadata": {},
   "source": [
    "## Select and Train a Model"
   ]
  },
  {
   "cell_type": "markdown",
   "id": "a9ecd299",
   "metadata": {},
   "source": [
    "### Training and Evaluating on the Training Set"
   ]
  },
  {
   "cell_type": "markdown",
   "id": "d56babca",
   "metadata": {},
   "source": [
    "*Train a Linear Regression model:*"
   ]
  },
  {
   "cell_type": "code",
   "execution_count": 28,
   "id": "dc2d89ec",
   "metadata": {},
   "outputs": [],
   "source": [
    "from sklearn.linear_model import LinearRegression"
   ]
  },
  {
   "cell_type": "code",
   "execution_count": 29,
   "id": "56048fb9",
   "metadata": {},
   "outputs": [
    {
     "data": {
      "text/plain": [
       "LinearRegression()"
      ]
     },
     "execution_count": 29,
     "metadata": {},
     "output_type": "execute_result"
    }
   ],
   "source": [
    "lin_reg = LinearRegression()\n",
    "lin_reg.fit(titanic_clean, titanic_train_labels)"
   ]
  },
  {
   "cell_type": "markdown",
   "id": "9993d09d",
   "metadata": {},
   "source": [
    "*Train a Decision Tree model:*"
   ]
  },
  {
   "cell_type": "code",
   "execution_count": 30,
   "id": "fd9fedb0",
   "metadata": {},
   "outputs": [],
   "source": [
    "from sklearn.tree import DecisionTreeRegressor"
   ]
  },
  {
   "cell_type": "code",
   "execution_count": 31,
   "id": "03247bdb",
   "metadata": {},
   "outputs": [
    {
     "data": {
      "text/plain": [
       "DecisionTreeRegressor()"
      ]
     },
     "execution_count": 31,
     "metadata": {},
     "output_type": "execute_result"
    }
   ],
   "source": [
    "tree_reg = DecisionTreeRegressor()\n",
    "tree_reg.fit(titanic_clean, titanic_train_labels)"
   ]
  },
  {
   "cell_type": "markdown",
   "id": "4c9731a1",
   "metadata": {},
   "source": [
    "*Train a Random Forest model:*"
   ]
  },
  {
   "cell_type": "code",
   "execution_count": 32,
   "id": "2ad1d30d",
   "metadata": {},
   "outputs": [],
   "source": [
    "from sklearn.ensemble import RandomForestRegressor"
   ]
  },
  {
   "cell_type": "code",
   "execution_count": 33,
   "id": "2fa3f26f",
   "metadata": {},
   "outputs": [
    {
     "data": {
      "text/plain": [
       "RandomForestRegressor()"
      ]
     },
     "execution_count": 33,
     "metadata": {},
     "output_type": "execute_result"
    }
   ],
   "source": [
    "forest_reg = RandomForestRegressor()\n",
    "forest_reg.fit(titanic_clean, titanic_train_labels)"
   ]
  },
  {
   "cell_type": "markdown",
   "id": "6ec712c9",
   "metadata": {},
   "source": [
    "See the models tested on some data: testing_on_some_data.ipynb"
   ]
  },
  {
   "cell_type": "markdown",
   "id": "95b61978",
   "metadata": {},
   "source": [
    "See the models tested via Cross-Validation method: testing_via_crossval.ipynb"
   ]
  }
 ],
 "metadata": {
  "kernelspec": {
   "display_name": "Python 3",
   "language": "python",
   "name": "python3"
  },
  "language_info": {
   "codemirror_mode": {
    "name": "ipython",
    "version": 3
   },
   "file_extension": ".py",
   "mimetype": "text/x-python",
   "name": "python",
   "nbconvert_exporter": "python",
   "pygments_lexer": "ipython3",
   "version": "3.8.8"
  }
 },
 "nbformat": 4,
 "nbformat_minor": 5
}
