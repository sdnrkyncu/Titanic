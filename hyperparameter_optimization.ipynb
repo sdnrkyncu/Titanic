{
 "cells": [
  {
   "cell_type": "code",
   "execution_count": 71,
   "id": "91334696",
   "metadata": {},
   "outputs": [],
   "source": [
    "%run main.ipynb"
   ]
  },
  {
   "cell_type": "markdown",
   "id": "75750e61",
   "metadata": {},
   "source": [
    "# Fine-Tune Your Model\n",
    "### (hyperparameter optimization)"
   ]
  },
  {
   "cell_type": "markdown",
   "id": "46432481",
   "metadata": {},
   "source": [
    "## Grid Search"
   ]
  },
  {
   "cell_type": "markdown",
   "id": "073adbd0",
   "metadata": {},
   "source": [
    "All you need to do is tell it which hyperparameters you want it to experiment with <br> \n",
    "and what values to try out, <br>\n",
    "and it will use cross-validation to evaluate all the possible combinations of hyperparameter values."
   ]
  },
  {
   "cell_type": "code",
   "execution_count": 72,
   "id": "41a03436",
   "metadata": {},
   "outputs": [],
   "source": [
    "from sklearn.model_selection import GridSearchCV"
   ]
  },
  {
   "cell_type": "markdown",
   "id": "2b6e6214",
   "metadata": {},
   "source": [
    "**Hyperparameter Optimization for Linear Regression model**"
   ]
  },
  {
   "cell_type": "code",
   "execution_count": 73,
   "id": "34c95654",
   "metadata": {},
   "outputs": [
    {
     "data": {
      "text/plain": [
       "{'copy_X': True,\n",
       " 'fit_intercept': True,\n",
       " 'n_jobs': None,\n",
       " 'normalize': False,\n",
       " 'positive': False}"
      ]
     },
     "execution_count": 73,
     "metadata": {},
     "output_type": "execute_result"
    }
   ],
   "source": [
    "lin_reg.get_params()"
   ]
  },
  {
   "cell_type": "code",
   "execution_count": 74,
   "id": "e549929b",
   "metadata": {},
   "outputs": [],
   "source": [
    "lin_reg_param_grid = [{\"fit_intercept\": [True, False], \"normalize\": [True, False]}]"
   ]
  },
  {
   "cell_type": "code",
   "execution_count": 75,
   "id": "ae6589ba",
   "metadata": {},
   "outputs": [],
   "source": [
    "lin_reg_grid_search = GridSearchCV(lin_reg, lin_reg_param_grid, cv=5, scoring=\"neg_mean_squared_error\")"
   ]
  },
  {
   "cell_type": "code",
   "execution_count": 76,
   "id": "06112332",
   "metadata": {},
   "outputs": [
    {
     "data": {
      "text/plain": [
       "GridSearchCV(cv=5, estimator=LinearRegression(),\n",
       "             param_grid=[{'fit_intercept': [True, False],\n",
       "                          'normalize': [True, False]}],\n",
       "             scoring='neg_mean_squared_error')"
      ]
     },
     "execution_count": 76,
     "metadata": {},
     "output_type": "execute_result"
    }
   ],
   "source": [
    "lin_reg_grid_search.fit(titanic_clean, titanic_train_labels)"
   ]
  },
  {
   "cell_type": "code",
   "execution_count": 77,
   "id": "7a6977c3",
   "metadata": {},
   "outputs": [
    {
     "data": {
      "text/plain": [
       "{'fit_intercept': True, 'normalize': True}"
      ]
     },
     "execution_count": 77,
     "metadata": {},
     "output_type": "execute_result"
    }
   ],
   "source": [
    "# best combination of paramaters\n",
    "lin_reg_grid_search.best_params_"
   ]
  },
  {
   "cell_type": "code",
   "execution_count": 78,
   "id": "fad6fb76",
   "metadata": {},
   "outputs": [
    {
     "data": {
      "text/plain": [
       "LinearRegression(normalize=True)"
      ]
     },
     "execution_count": 78,
     "metadata": {},
     "output_type": "execute_result"
    }
   ],
   "source": [
    "# best estimator directly\n",
    "lin_reg_grid_search.best_estimator_"
   ]
  },
  {
   "cell_type": "code",
   "execution_count": 79,
   "id": "a5f6cf0c",
   "metadata": {},
   "outputs": [
    {
     "name": "stdout",
     "output_type": "stream",
     "text": [
      "{'mean_fit_time': array([0.0023355 , 0.00140057, 0.00186887, 0.00109472]), 'std_fit_time': array([0.00069266, 0.00034059, 0.00101927, 0.00058523]), 'mean_score_time': array([0.00082269, 0.00088925, 0.00077634, 0.00041146]), 'std_score_time': array([0.00025598, 0.00090588, 0.00039735, 0.00016943]), 'param_fit_intercept': masked_array(data=[True, True, False, False],\n",
      "             mask=[False, False, False, False],\n",
      "       fill_value='?',\n",
      "            dtype=object), 'param_normalize': masked_array(data=[True, False, True, False],\n",
      "             mask=[False, False, False, False],\n",
      "       fill_value='?',\n",
      "            dtype=object), 'params': [{'fit_intercept': True, 'normalize': True}, {'fit_intercept': True, 'normalize': False}, {'fit_intercept': False, 'normalize': True}, {'fit_intercept': False, 'normalize': False}], 'split0_test_score': array([-0.15375341, -0.15375341, -0.15375341, -0.15375341]), 'split1_test_score': array([-0.1597815, -0.1597815, -0.1597815, -0.1597815]), 'split2_test_score': array([-0.16535456, -0.16535456, -0.16535456, -0.16535456]), 'split3_test_score': array([-0.18728075, -0.18728075, -0.18728075, -0.18728075]), 'split4_test_score': array([-0.14218568, -0.14218568, -0.14218568, -0.14218568]), 'mean_test_score': array([-0.16167118, -0.16167118, -0.16167118, -0.16167118]), 'std_test_score': array([0.01493562, 0.01493562, 0.01493562, 0.01493562]), 'rank_test_score': array([1, 1, 1, 1], dtype=int32)}\n"
     ]
    }
   ],
   "source": [
    "# Evaluation scores are available\n",
    "cvres = lin_reg_grid_search.cv_results_\n",
    "print(cvres)"
   ]
  },
  {
   "cell_type": "code",
   "execution_count": 80,
   "id": "7f47ed93",
   "metadata": {},
   "outputs": [
    {
     "name": "stdout",
     "output_type": "stream",
     "text": [
      "0.402083548341115 {'fit_intercept': True, 'normalize': True}\n",
      "0.402083548341115 {'fit_intercept': True, 'normalize': False}\n",
      "0.402083548341115 {'fit_intercept': False, 'normalize': True}\n",
      "0.402083548341115 {'fit_intercept': False, 'normalize': False}\n"
     ]
    }
   ],
   "source": [
    "for mean_score, params in zip(cvres[\"mean_test_score\"], cvres[\"params\"]):\n",
    "    print(np.sqrt(-mean_score), params)"
   ]
  },
  {
   "cell_type": "markdown",
   "id": "9a5454a7",
   "metadata": {},
   "source": [
    "**Hyperparameter Optimization for RandomForestRegressor model**"
   ]
  },
  {
   "cell_type": "code",
   "execution_count": 81,
   "id": "9487a2de",
   "metadata": {},
   "outputs": [
    {
     "data": {
      "text/plain": [
       "{'bootstrap': True,\n",
       " 'ccp_alpha': 0.0,\n",
       " 'criterion': 'mse',\n",
       " 'max_depth': None,\n",
       " 'max_features': 'auto',\n",
       " 'max_leaf_nodes': None,\n",
       " 'max_samples': None,\n",
       " 'min_impurity_decrease': 0.0,\n",
       " 'min_impurity_split': None,\n",
       " 'min_samples_leaf': 1,\n",
       " 'min_samples_split': 2,\n",
       " 'min_weight_fraction_leaf': 0.0,\n",
       " 'n_estimators': 100,\n",
       " 'n_jobs': None,\n",
       " 'oob_score': False,\n",
       " 'random_state': None,\n",
       " 'verbose': 0,\n",
       " 'warm_start': False}"
      ]
     },
     "execution_count": 81,
     "metadata": {},
     "output_type": "execute_result"
    }
   ],
   "source": [
    "forest_reg.get_params()"
   ]
  },
  {
   "cell_type": "code",
   "execution_count": 82,
   "id": "9fe6f22a",
   "metadata": {},
   "outputs": [],
   "source": [
    "forest_reg_param_grid = [\n",
    "{'n_estimators': [3, 10, 30], 'max_features': [2, 4, 6, 8]},\n",
    "{'bootstrap': [False], 'n_estimators': [3, 10], 'max_features': [2, 3, 4]},\n",
    "]"
   ]
  },
  {
   "cell_type": "code",
   "execution_count": 83,
   "id": "84fbbd63",
   "metadata": {},
   "outputs": [],
   "source": [
    "forest_reg_grid_search = GridSearchCV(lin_reg, param_grid, cv=5, scoring=\"neg_mean_squared_error\")"
   ]
  },
  {
   "cell_type": "code",
   "execution_count": 84,
   "id": "7a1c6f02",
   "metadata": {},
   "outputs": [
    {
     "data": {
      "text/plain": [
       "GridSearchCV(cv=5, estimator=LinearRegression(),\n",
       "             param_grid=[{'fit_intercept': [True, False],\n",
       "                          'normalize': [True, False]}],\n",
       "             scoring='neg_mean_squared_error')"
      ]
     },
     "execution_count": 84,
     "metadata": {},
     "output_type": "execute_result"
    }
   ],
   "source": [
    "forest_reg_grid_search.fit(titanic_clean, titanic_train_labels)"
   ]
  },
  {
   "cell_type": "code",
   "execution_count": 85,
   "id": "ad80e0c5",
   "metadata": {},
   "outputs": [
    {
     "name": "stdout",
     "output_type": "stream",
     "text": [
      "Best parameters: {'fit_intercept': True, 'normalize': True}\n",
      " Best estimator: LinearRegression(normalize=True)\n"
     ]
    }
   ],
   "source": [
    "print(f\"Best parameters: {forest_reg_grid_search.best_params_}\\n\",\n",
    "     f\"Best estimator: {forest_reg_grid_search.best_estimator_}\")"
   ]
  },
  {
   "cell_type": "code",
   "execution_count": 86,
   "id": "d2ede93b",
   "metadata": {},
   "outputs": [
    {
     "name": "stdout",
     "output_type": "stream",
     "text": [
      "0.402083548341115 {'fit_intercept': True, 'normalize': True}\n",
      "0.402083548341115 {'fit_intercept': True, 'normalize': False}\n",
      "0.402083548341115 {'fit_intercept': False, 'normalize': True}\n",
      "0.402083548341115 {'fit_intercept': False, 'normalize': False}\n"
     ]
    }
   ],
   "source": [
    "forest_reg_cvres = forest_reg_grid_search.cv_results_\n",
    "#print(forest_reg_cvres)\n",
    "\n",
    "for mean_score, params in zip(forest_reg_cvres[\"mean_test_score\"], forest_reg_cvres[\"params\"]):\n",
    "    print(np.sqrt(-mean_score), params)"
   ]
  },
  {
   "cell_type": "markdown",
   "id": "8fe4be9b",
   "metadata": {},
   "source": [
    "## Randomized Search"
   ]
  },
  {
   "cell_type": "markdown",
   "id": "f4b90a66",
   "metadata": {},
   "source": []
  }
 ],
 "metadata": {
  "kernelspec": {
   "display_name": "Python 3",
   "language": "python",
   "name": "python3"
  },
  "language_info": {
   "codemirror_mode": {
    "name": "ipython",
    "version": 3
   },
   "file_extension": ".py",
   "mimetype": "text/x-python",
   "name": "python",
   "nbconvert_exporter": "python",
   "pygments_lexer": "ipython3",
   "version": "3.8.8"
  }
 },
 "nbformat": 4,
 "nbformat_minor": 5
}
